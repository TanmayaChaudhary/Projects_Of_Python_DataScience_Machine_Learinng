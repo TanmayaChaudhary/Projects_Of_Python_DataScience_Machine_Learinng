{
 "cells": [
  {
   "cell_type": "markdown",
   "metadata": {},
   "source": [
    "# No. Prediction Game"
   ]
  },
  {
   "cell_type": "code",
   "execution_count": null,
   "metadata": {},
   "outputs": [],
   "source": [
    "import random as rd\n",
    "\n",
    "print(\"Welcome To The No. Prediction Game\\n\")\n",
    "char=input(\"\\nYou Want To Play/Not :: Press y/n\")\n",
    "\n",
    "if char=='y':\n",
    "    \n",
    "    count=0\n",
    "    random=[]\n",
    "    no=int(input(\"\\nChoose a no. b/w 1 to 10 you want: \"))\n",
    "    print(\"System Generated 10 No.s are :\")\n",
    "    for i in range(10):\n",
    "        random.append(rd.randint(0,15))\n",
    "        print(random[i])\n",
    "    count=random.count(no)    \n",
    "    if count==0:\n",
    "        print(\"\\nSorry!!!! You Guess Wrong No.\\n Your Score Is 0\")\n",
    "    else:\n",
    "        print(\"\\nCongratulations You Guess Right no.\\n Your Score Is \",count)\n",
    "\n",
    "else:\n",
    "    exit()"
   ]
  }
 ],
 "metadata": {
  "kernelspec": {
   "display_name": "Python 3",
   "language": "python",
   "name": "python3"
  },
  "language_info": {
   "codemirror_mode": {
    "name": "ipython",
    "version": 3
   },
   "file_extension": ".py",
   "mimetype": "text/x-python",
   "name": "python",
   "nbconvert_exporter": "python",
   "pygments_lexer": "ipython3",
   "version": "3.6.7"
  }
 },
 "nbformat": 4,
 "nbformat_minor": 2
}
