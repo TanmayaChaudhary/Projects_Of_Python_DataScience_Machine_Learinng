{
 "cells": [
  {
   "cell_type": "markdown",
   "metadata": {},
   "source": [
    "## Road White Line Detection In A Video"
   ]
  },
  {
   "cell_type": "code",
   "execution_count": 1,
   "metadata": {},
   "outputs": [],
   "source": [
    "import matplotlib.pyplot as plt\n",
    "import cv2 as cv\n",
    "from PIL import Image\n",
    "import numpy as np\n",
    "from pylab import rcParams\n",
    "rcParams['figure.figsize']=(10,10)\n"
   ]
  },
  {
   "cell_type": "code",
   "execution_count": 2,
   "metadata": {},
   "outputs": [],
   "source": [
    "cam=cv.VideoCapture(\"solidWhiteRight.mp4\")"
   ]
  },
  {
   "cell_type": "code",
   "execution_count": 3,
   "metadata": {},
   "outputs": [],
   "source": [
    "# Gives the coordinates of vertices for masking\n",
    "def get_vertices(img_canny):\n",
    "    rows, cols = img_canny.shape[:2]\n",
    "    bottom_left = [cols*0.1 , rows*0.95]\n",
    "    top_left = [cols*0.45,rows*0.6]\n",
    "    bottom_right = [cols*0.9,rows*0.95]\n",
    "    top_right = [cols*0.55,rows*0.6]\n",
    "    \n",
    "    ver = np.array([[bottom_left,top_left,top_right,bottom_right]],dtype=np.int32)\n",
    "    return ver"
   ]
  },
  {
   "cell_type": "code",
   "execution_count": 4,
   "metadata": {},
   "outputs": [
    {
     "ename": "error",
     "evalue": "OpenCV(4.1.0) C:\\projects\\opencv-python\\opencv\\modules\\imgproc\\src\\color.cpp:182: error: (-215:Assertion failed) !_src.empty() in function 'cv::cvtColor'\n",
     "output_type": "error",
     "traceback": [
      "\u001b[1;31m---------------------------------------------------------------------------\u001b[0m",
      "\u001b[1;31merror\u001b[0m                                     Traceback (most recent call last)",
      "\u001b[1;32m<ipython-input-4-799f711c9a28>\u001b[0m in \u001b[0;36m<module>\u001b[1;34m\u001b[0m\n\u001b[0;32m      3\u001b[0m     \u001b[0m_\u001b[0m\u001b[1;33m,\u001b[0m\u001b[0mframe\u001b[0m\u001b[1;33m=\u001b[0m\u001b[0mcam\u001b[0m\u001b[1;33m.\u001b[0m\u001b[0mread\u001b[0m\u001b[1;33m(\u001b[0m\u001b[1;33m)\u001b[0m\u001b[1;33m\u001b[0m\u001b[1;33m\u001b[0m\u001b[0m\n\u001b[0;32m      4\u001b[0m \u001b[1;33m\u001b[0m\u001b[0m\n\u001b[1;32m----> 5\u001b[1;33m     \u001b[0mframe_rgb\u001b[0m \u001b[1;33m=\u001b[0m\u001b[0mcv\u001b[0m\u001b[1;33m.\u001b[0m\u001b[0mcvtColor\u001b[0m\u001b[1;33m(\u001b[0m\u001b[0mframe\u001b[0m\u001b[1;33m,\u001b[0m\u001b[0mcv\u001b[0m\u001b[1;33m.\u001b[0m\u001b[0mCOLOR_BGR2RGB\u001b[0m\u001b[1;33m)\u001b[0m\u001b[1;33m\u001b[0m\u001b[1;33m\u001b[0m\u001b[0m\n\u001b[0m\u001b[0;32m      6\u001b[0m \u001b[1;33m\u001b[0m\u001b[0m\n\u001b[0;32m      7\u001b[0m     \u001b[0mframe_gray\u001b[0m \u001b[1;33m=\u001b[0m\u001b[0mcv\u001b[0m\u001b[1;33m.\u001b[0m\u001b[0mcvtColor\u001b[0m\u001b[1;33m(\u001b[0m\u001b[0mframe_rgb\u001b[0m\u001b[1;33m,\u001b[0m\u001b[0mcv\u001b[0m\u001b[1;33m.\u001b[0m\u001b[0mCOLOR_RGB2GRAY\u001b[0m\u001b[1;33m)\u001b[0m\u001b[1;33m\u001b[0m\u001b[1;33m\u001b[0m\u001b[0m\n",
      "\u001b[1;31merror\u001b[0m: OpenCV(4.1.0) C:\\projects\\opencv-python\\opencv\\modules\\imgproc\\src\\color.cpp:182: error: (-215:Assertion failed) !_src.empty() in function 'cv::cvtColor'\n"
     ]
    }
   ],
   "source": [
    "# Loop which is used to display the detected line\n",
    "while True:\n",
    "    _,frame=cam.read()\n",
    "    \n",
    "    frame_rgb =cv.cvtColor(frame,cv.COLOR_BGR2RGB)\n",
    "    \n",
    "    frame_gray =cv.cvtColor(frame_rgb,cv.COLOR_RGB2GRAY)\n",
    "    \n",
    "    # Apply Gaussian Blur Algo\n",
    "    frame_blur=cv.GaussianBlur(frame_gray,(5,5),0)   # (5,5) is a matrix    0 show we dont need blur in any direction x,y\n",
    "    #plt.imshow(frame_blur,cmap=\"gray\")\n",
    "    \n",
    "    # Apply Canny Edge Detection Algo\n",
    "    frame_canny=cv.Canny(frame_blur,120,240)  # 120-240 shows the color intensity so this img_canny will detect the images which color \n",
    "    #plt.imshow(img_canny,cmap=\"gray\")         #lies in 120 - 240 range\n",
    "\n",
    "    # Apply Masking \n",
    "    mask=np.zeros_like(frame_canny)\n",
    "    points=get_vertices(frame)\n",
    "    cv.fillPoly(mask,points,(255,255,255))\n",
    "    com=cv.bitwise_and(frame_canny,mask)\n",
    "    #plt.imshow(com,cmap='gray')\n",
    "    \n",
    "    # Appliying Hough Lines Algo\n",
    "    lines=cv.HoughLinesP(com,      # HoughLinesP & HoughLines are diff functions             HoughLinesP is used to detect \n",
    "                         rho=6,                                                                   # the lines in imgae\n",
    "                         theta=np.pi/60,\n",
    "                         threshold=140,   # Shows the lines which are having color value greater than 140  \n",
    "                         lines=np.array([]),\n",
    "                         minLineLength=40,\n",
    "                         maxLineGap=5\n",
    "                        )\n",
    "    \n",
    "    lines.shape # shape is of 3 lists\n",
    "    \n",
    "    # SO to remove the complexity we reshape the lines list\n",
    "    lines=lines.reshape(-1,4)\n",
    "    lines.shape\n",
    "    \n",
    "    dg=frame_rgb.copy()\n",
    "    for l in lines:\n",
    "        x1,y1,x2,y2=l\n",
    "        cv.line(dg,(x1,y1),(x2,y2),(255,0,0),5)\n",
    "    cv.imshow(\"Line_Detection\",dg)\n",
    "    \n",
    "     #To close the window\n",
    "    key=cv.waitKey(5)\n",
    "    if key & 0xff == ord('q'):\n",
    "        cv.destroyAllWindows()\n",
    "        break\n",
    "#Release the camera\n",
    "cam.release()  "
   ]
  },
  {
   "cell_type": "code",
   "execution_count": null,
   "metadata": {},
   "outputs": [],
   "source": []
  }
 ],
 "metadata": {
  "kernelspec": {
   "display_name": "Python 3",
   "language": "python",
   "name": "python3"
  },
  "language_info": {
   "codemirror_mode": {
    "name": "ipython",
    "version": 3
   },
   "file_extension": ".py",
   "mimetype": "text/x-python",
   "name": "python",
   "nbconvert_exporter": "python",
   "pygments_lexer": "ipython3",
   "version": "3.6.7"
  }
 },
 "nbformat": 4,
 "nbformat_minor": 2
}
