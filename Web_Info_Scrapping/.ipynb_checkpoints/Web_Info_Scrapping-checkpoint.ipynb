{
 "cells": [
  {
   "cell_type": "markdown",
   "metadata": {},
   "source": [
    "## Web Scraping"
   ]
  },
  {
   "cell_type": "code",
   "execution_count": 4,
   "metadata": {},
   "outputs": [],
   "source": [
    "from bs4 import BeautifulSoup\n",
    "import requests"
   ]
  },
  {
   "cell_type": "code",
   "execution_count": 5,
   "metadata": {},
   "outputs": [],
   "source": [
    "url=\"https://en.wikipedia.org/wiki/Python_(programming_language)\"\n",
    "raw_data=requests.get(url)"
   ]
  },
  {
   "cell_type": "code",
   "execution_count": 9,
   "metadata": {},
   "outputs": [],
   "source": [
    "data=raw_data.content"
   ]
  },
  {
   "cell_type": "code",
   "execution_count": 10,
   "metadata": {},
   "outputs": [],
   "source": [
    "bs=BeautifulSoup(data,\"lxml\") #convert data to lxml readable formate"
   ]
  },
  {
   "cell_type": "code",
   "execution_count": 11,
   "metadata": {},
   "outputs": [],
   "source": [
    "g=bs.find_all(\"table\",{\"class\":\"infobox vevent\"}) #gives all the p tags in the page"
   ]
  },
  {
   "cell_type": "code",
   "execution_count": 23,
   "metadata": {},
   "outputs": [
    {
     "data": {
      "text/plain": [
       "bs4.element.ResultSet"
      ]
     },
     "execution_count": 23,
     "metadata": {},
     "output_type": "execute_result"
    }
   ],
   "source": [
    "type(g)"
   ]
  },
  {
   "cell_type": "code",
   "execution_count": 24,
   "metadata": {},
   "outputs": [
    {
     "data": {
      "text/plain": [
       "1"
      ]
     },
     "execution_count": 24,
     "metadata": {},
     "output_type": "execute_result"
    }
   ],
   "source": [
    "#g\n",
    "len(g)"
   ]
  },
  {
   "cell_type": "code",
   "execution_count": 25,
   "metadata": {},
   "outputs": [
    {
     "data": {
      "text/plain": [
       "[<th scope=\"row\"><a href=\"/wiki/Programming_paradigm\" title=\"Programming paradigm\">Paradigm</a></th>,\n",
       " <th scope=\"row\"><a href=\"/wiki/Software_design\" title=\"Software design\">Designed by</a></th>,\n",
       " <th scope=\"row\"><a class=\"mw-redirect\" href=\"/wiki/Software_developer\" title=\"Software developer\">Developer</a></th>,\n",
       " <th scope=\"row\">First appeared</th>,\n",
       " <th scope=\"row\" style=\"white-space: nowrap;\"><a href=\"/wiki/Software_release_life_cycle\" title=\"Software release life cycle\">Stable release</a></th>,\n",
       " <th scope=\"row\"><a href=\"/wiki/Type_system\" title=\"Type system\">Typing discipline</a></th>,\n",
       " <th scope=\"row\"><a href=\"/wiki/Software_license\" title=\"Software license\">License</a></th>,\n",
       " <th scope=\"row\"><a href=\"/wiki/Filename_extension\" title=\"Filename extension\">Filename extensions</a></th>,\n",
       " <th scope=\"row\">Website</th>,\n",
       " <th colspan=\"2\" style=\"text-align:center;background-color: #eee;\">Major <a href=\"/wiki/Programming_language_implementation\" title=\"Programming language implementation\">implementations</a></th>,\n",
       " <th colspan=\"2\" style=\"text-align:center;background-color: #eee;\"><a href=\"/wiki/Programming_language#Dialects,_flavors_and_implementations\" title=\"Programming language\">Dialects</a></th>,\n",
       " <th colspan=\"2\" style=\"text-align:center;background-color: #eee;\">Influenced by</th>,\n",
       " <th colspan=\"2\" style=\"text-align:center;background-color: #eee;\">Influenced</th>]"
      ]
     },
     "execution_count": 25,
     "metadata": {},
     "output_type": "execute_result"
    }
   ],
   "source": [
    "th=g[0].find_all(\"th\")\n",
    "th"
   ]
  },
  {
   "cell_type": "code",
   "execution_count": 26,
   "metadata": {},
   "outputs": [
    {
     "name": "stdout",
     "output_type": "stream",
     "text": [
      "Paradigm\n",
      "Designed by\n",
      "Developer\n",
      "First appeared\n",
      "Stable release\n",
      "Typing discipline\n",
      "License\n",
      "Filename extensions\n",
      "Website\n",
      "Major implementations\n",
      "Dialects\n",
      "Influenced by\n",
      "Influenced\n"
     ]
    }
   ],
   "source": [
    "title=[]\n",
    "for i in th:\n",
    "    print(i.text)\n",
    "    title.append(i.text)"
   ]
  },
  {
   "cell_type": "code",
   "execution_count": 28,
   "metadata": {},
   "outputs": [
    {
     "name": "stdout",
     "output_type": "stream",
     "text": [
      "13\n",
      "17\n"
     ]
    }
   ],
   "source": [
    "print(len(th))\n",
    "print(len(td))"
   ]
  },
  {
   "cell_type": "code",
   "execution_count": 48,
   "metadata": {},
   "outputs": [],
   "source": [
    "td=g[0].find_all(\"td\")\n",
    "#td"
   ]
  },
  {
   "cell_type": "code",
   "execution_count": 29,
   "metadata": {},
   "outputs": [
    {
     "name": "stdout",
     "output_type": "stream",
     "text": [
      "\n",
      "\n",
      "\n",
      "Multi-paradigm: functional, imperative, object-oriented, reflective\n",
      "\n",
      "\n",
      "Guido van Rossum\n",
      "\n",
      "\n",
      "Python Software Foundation\n",
      "\n",
      "\n",
      "1990; 29 years ago (1990)[1]\n",
      "\n",
      "\n",
      "\n",
      "\n",
      "\n",
      "3.7.3 / 25 March 2019; 49 days ago (2019-03-25)[2]2.7.16 / 4 March 2019; 2 months ago (2019-03-04)[3]\n",
      "\n",
      "\n",
      "\n",
      "\n",
      "\n",
      "\n",
      "\n",
      "Duck, dynamic, gradual (since 3.5)[4]\n",
      "\n",
      "\n",
      "Python Software Foundation License\n",
      "\n",
      "\n",
      ".py, .pyc, .pyd, .pyo (prior to 3.5),[5] .pyw, .pyz (since 3.5)[6]\n",
      "\n",
      "\n",
      "www.python.org\n",
      "\n",
      "\n",
      "CPython, PyPy, Stackless Python, MicroPython. CircuitPython, IronPython, Jython\n",
      "\n",
      "\n",
      "Cython, RPython\n",
      "\n",
      "\n",
      "ABC,[7] ALGOL 68,[8] APL[9] C,[10] C++,[11] CLU,[12] Dylan,[13] Haskell,[14] Icon,[15] Java,[16] Lisp,[17] Modula-3,[11] Perl, Standard ML[9]\n",
      "\n",
      "\n",
      "Apache Groovy, Boo, Cobra, CoffeeScript,[18] D, F#, Genie,[19] Go, JavaScript,[20][21] Julia,[22] Nim, Ring,[23] Ruby,[24] Swift[25]\n",
      "\n",
      "\n",
      "\n",
      " Python Programming at Wikibooks\n",
      "\n",
      "\n",
      "\n"
     ]
    }
   ],
   "source": [
    "dec=[]\n",
    "for j in td:\n",
    "    print(j.text)\n",
    "    print(\"\\n\")\n",
    "    dec.append(j.text)"
   ]
  },
  {
   "cell_type": "code",
   "execution_count": 30,
   "metadata": {},
   "outputs": [
    {
     "name": "stdout",
     "output_type": "stream",
     "text": [
      "Multi-paradigm: functional, imperative, object-oriented, reflective\n"
     ]
    }
   ],
   "source": [
    "print(td[1].text)"
   ]
  },
  {
   "cell_type": "code",
   "execution_count": 31,
   "metadata": {},
   "outputs": [
    {
     "name": "stdout",
     "output_type": "stream",
     "text": [
      "Paradigm\tMulti-paradigm: functional, imperative, object-oriented, reflective\n",
      "Designed by\tGuido van Rossum\n",
      "Developer\tPython Software Foundation\n",
      "First appeared\t1990; 29 years ago (1990)[1]\n",
      "Stable release\t\n",
      "Typing discipline\t3.7.3 / 25 March 2019; 49 days ago (2019-03-25)[2]2.7.16 / 4 March 2019; 2 months ago (2019-03-04)[3]\n",
      "\n",
      "License\t\n",
      "\n",
      "Filename extensions\tDuck, dynamic, gradual (since 3.5)[4]\n",
      "Website\tPython Software Foundation License\n",
      "Major implementations\t.py, .pyc, .pyd, .pyo (prior to 3.5),[5] .pyw, .pyz (since 3.5)[6]\n",
      "Dialects\twww.python.org\n",
      "Influenced by\tCPython, PyPy, Stackless Python, MicroPython. CircuitPython, IronPython, Jython\n",
      "Influenced\tCython, RPython\n"
     ]
    }
   ],
   "source": [
    "k=min([len(dec),len(title)])\n",
    "for i in range(k):\n",
    "    print(\"\"+title[i]+\"\\t\"+dec[i+1])"
   ]
  },
  {
   "cell_type": "code",
   "execution_count": 62,
   "metadata": {},
   "outputs": [
    {
     "data": {
      "text/plain": [
       "17"
      ]
     },
     "execution_count": 62,
     "metadata": {},
     "output_type": "execute_result"
    }
   ],
   "source": []
  },
  {
   "cell_type": "code",
   "execution_count": null,
   "metadata": {},
   "outputs": [],
   "source": []
  },
  {
   "cell_type": "code",
   "execution_count": 32,
   "metadata": {},
   "outputs": [
    {
     "data": {
      "text/plain": [
       "bs4.element.Tag"
      ]
     },
     "execution_count": 32,
     "metadata": {},
     "output_type": "execute_result"
    }
   ],
   "source": [
    "type(g[0])"
   ]
  },
  {
   "cell_type": "code",
   "execution_count": 33,
   "metadata": {},
   "outputs": [
    {
     "data": {
      "text/plain": [
       "'Designed\\xa0by'"
      ]
     },
     "execution_count": 33,
     "metadata": {},
     "output_type": "execute_result"
    }
   ],
   "source": [
    "g[0].find_all(\"th\")[1].text"
   ]
  },
  {
   "cell_type": "code",
   "execution_count": null,
   "metadata": {},
   "outputs": [],
   "source": []
  },
  {
   "cell_type": "code",
   "execution_count": null,
   "metadata": {},
   "outputs": [],
   "source": []
  },
  {
   "cell_type": "code",
   "execution_count": null,
   "metadata": {},
   "outputs": [],
   "source": []
  },
  {
   "cell_type": "markdown",
   "metadata": {},
   "source": [
    "## Another example"
   ]
  },
  {
   "cell_type": "code",
   "execution_count": 2,
   "metadata": {},
   "outputs": [],
   "source": [
    "from bs4 import BeautifulSoup\n",
    "import requests"
   ]
  },
  {
   "cell_type": "code",
   "execution_count": 36,
   "metadata": {},
   "outputs": [],
   "source": [
    "#url=\"https://www.snapdeal.com/products/mobiles-mobile-phones/filters/Form_s~Smartphones?sort=plrty\"\n",
    "#raw_data=requests.get(url)"
   ]
  },
  {
   "cell_type": "code",
   "execution_count": 37,
   "metadata": {},
   "outputs": [],
   "source": [
    "#data=raw_data.content"
   ]
  },
  {
   "cell_type": "code",
   "execution_count": 38,
   "metadata": {},
   "outputs": [],
   "source": [
    "#bs=BeautifulSoup(data,\"lxml\")"
   ]
  },
  {
   "cell_type": "code",
   "execution_count": 39,
   "metadata": {},
   "outputs": [],
   "source": [
    "#g=bs.find_all(\"table\",{\"class\":\"infobox vevent\"})"
   ]
  },
  {
   "cell_type": "code",
   "execution_count": 3,
   "metadata": {},
   "outputs": [],
   "source": [
    "data=BeautifulSoup(requests.get(\"https://www.pexels.com/search/dogs/\").content)"
   ]
  },
  {
   "cell_type": "code",
   "execution_count": 4,
   "metadata": {},
   "outputs": [],
   "source": [
    "mob=data.find_all(\"img\")"
   ]
  },
  {
   "cell_type": "code",
   "execution_count": 5,
   "metadata": {},
   "outputs": [
    {
     "data": {
      "text/plain": [
       "153"
      ]
     },
     "execution_count": 5,
     "metadata": {},
     "output_type": "execute_result"
    }
   ],
   "source": [
    "len(mob)"
   ]
  },
  {
   "cell_type": "code",
   "execution_count": 6,
   "metadata": {},
   "outputs": [],
   "source": [
    "src=[]\n",
    "for i in range(len(mob)):\n",
    "    src.append(mob[i][\"src\"])\n",
    "    "
   ]
  },
  {
   "cell_type": "code",
   "execution_count": 8,
   "metadata": {},
   "outputs": [
    {
     "data": {
      "text/plain": [
       "['https://www.pexels.com/assets/_svg/avatar_default-ab90ed807baa930476cb5abc4b547f7190f19fb418dc3581e686d5d418a611a1.svg',\n",
       " 'https://images.pexels.com/photos/850602/pexels-photo-850602.jpeg?auto=compress&cs=tinysrgb&dpr=1&w=500',\n",
       " 'https://www.pexels.com/assets/favorite-f721c3d387889d5c3a9e0943c1836840a2954b9bebab846ca963877afee48f21.svg',\n",
       " 'https://www.pexels.com/assets/star-1bf7ee8c305832829a0a1e0b5c5d901e34e6732cd67c90715cd9b554a785877b.svg',\n",
       " 'https://images.pexels.com/users/avatars/269359/nancy-guth-176.jpg?w=60&h=60&fit=crop&crop=faces']"
      ]
     },
     "execution_count": 8,
     "metadata": {},
     "output_type": "execute_result"
    }
   ],
   "source": [
    "src[:5]"
   ]
  },
  {
   "cell_type": "code",
   "execution_count": 9,
   "metadata": {},
   "outputs": [
    {
     "data": {
      "text/plain": [
       "[]"
      ]
     },
     "execution_count": 9,
     "metadata": {},
     "output_type": "execute_result"
    }
   ],
   "source": [
    "mob[0].find_all(\"img\",{\"class\":\"_1Nyybr _30XEf0\"})"
   ]
  },
  {
   "cell_type": "code",
   "execution_count": 10,
   "metadata": {},
   "outputs": [
    {
     "name": "stdout",
     "output_type": "stream",
     "text": [
      "image is not downloadable\n",
      "image is not downloadable\n",
      "image is not downloadable\n",
      "image is not downloadable\n",
      "image is not downloadable\n",
      "image is not downloadable\n",
      "image is not downloadable\n",
      "image is not downloadable\n",
      "image is not downloadable\n",
      "image is not downloadable\n",
      "image is not downloadable\n",
      "image is not downloadable\n",
      "image is not downloadable\n",
      "image is not downloadable\n",
      "image is not downloadable\n",
      "image is not downloadable\n",
      "image is not downloadable\n",
      "image is not downloadable\n",
      "image is not downloadable\n",
      "image is not downloadable\n",
      "image is not downloadable\n",
      "image is not downloadable\n",
      "image is not downloadable\n",
      "image is not downloadable\n",
      "image is not downloadable\n",
      "image is not downloadable\n",
      "image is not downloadable\n",
      "image is not downloadable\n",
      "image is not downloadable\n",
      "image is not downloadable\n",
      "image is not downloadable\n",
      "image is not downloadable\n",
      "image is not downloadable\n",
      "image is not downloadable\n",
      "image is not downloadable\n",
      "image is not downloadable\n",
      "image is not downloadable\n",
      "image is not downloadable\n",
      "image is not downloadable\n",
      "image is not downloadable\n",
      "image is not downloadable\n",
      "image is not downloadable\n",
      "image is not downloadable\n",
      "image is not downloadable\n",
      "image is not downloadable\n",
      "image is not downloadable\n",
      "image is not downloadable\n",
      "image is not downloadable\n",
      "image is not downloadable\n",
      "image is not downloadable\n",
      "image is not downloadable\n",
      "image is not downloadable\n",
      "image is not downloadable\n",
      "image is not downloadable\n",
      "image is not downloadable\n",
      "image is not downloadable\n",
      "image is not downloadable\n",
      "image is not downloadable\n",
      "image is not downloadable\n",
      "image is not downloadable\n",
      "image is not downloadable\n",
      "image is not downloadable\n",
      "image is not downloadable\n",
      "image is not downloadable\n",
      "image is not downloadable\n",
      "image is not downloadable\n",
      "image is not downloadable\n",
      "image is not downloadable\n",
      "image is not downloadable\n",
      "image is not downloadable\n",
      "image is not downloadable\n",
      "image is not downloadable\n",
      "image is not downloadable\n",
      "image is not downloadable\n",
      "image is not downloadable\n",
      "image is not downloadable\n",
      "image is not downloadable\n",
      "image is not downloadable\n",
      "image is not downloadable\n",
      "image is not downloadable\n",
      "image is not downloadable\n",
      "image is not downloadable\n",
      "image is not downloadable\n",
      "image is not downloadable\n",
      "image is not downloadable\n",
      "image is not downloadable\n",
      "image is not downloadable\n",
      "image is not downloadable\n",
      "image is not downloadable\n",
      "image is not downloadable\n",
      "image is not downloadable\n",
      "image is not downloadable\n",
      "image is not downloadable\n",
      "image is not downloadable\n",
      "image is not downloadable\n",
      "image is not downloadable\n",
      "image is not downloadable\n",
      "image is not downloadable\n",
      "image is not downloadable\n",
      "image is not downloadable\n",
      "image is not downloadable\n",
      "image is not downloadable\n",
      "image is not downloadable\n",
      "image is not downloadable\n",
      "image is not downloadable\n"
     ]
    }
   ],
   "source": [
    "import io\n",
    "from PIL import Image\n",
    "i=0\n",
    "for d in src:\n",
    "    try:\n",
    "        data=requests.get(d,stream=True).content   #data is comes in packages so we need to set stream=True\n",
    "        img=io.BytesIO(data)  #read bytes data \n",
    "        imgr=Image.open(img)  \n",
    "        imgr.save(\"dogs/dog_\"+str(i)+\".jpg\")\n",
    "        i=i+1\n",
    "    except:\n",
    "        print(\"image is not downloadable\")\n",
    "        \n",
    "        \n",
    "\n",
    "    "
   ]
  },
  {
   "cell_type": "code",
   "execution_count": 47,
   "metadata": {},
   "outputs": [
    {
     "data": {
      "image/png": "[encoded data removed]",
      "text/plain": [
       "<PIL.PngImagePlugin.PngImageFile image mode=P size=72x52 at 0x1F5CF75B7F0>"
      ]
     },
     "execution_count": 47,
     "metadata": {},
     "output_type": "execute_result"
    }
   ],
   "source": [
    "imgr"
   ]
  },
  {
   "cell_type": "code",
   "execution_count": 12,
   "metadata": {},
   "outputs": [],
   "source": [
    "#src"
   ]
  },
  {
   "cell_type": "code",
   "execution_count": null,
   "metadata": {},
   "outputs": [],
   "source": []
  }
 ],
 "metadata": {
  "kernelspec": {
   "display_name": "Python 3",
   "language": "python",
   "name": "python3"
  },
  "language_info": {
   "codemirror_mode": {
    "name": "ipython",
    "version": 3
   },
   "file_extension": ".py",
   "mimetype": "text/x-python",
   "name": "python",
   "nbconvert_exporter": "python",
   "pygments_lexer": "ipython3",
   "version": "3.7.3"
  }
 },
 "nbformat": 4,
 "nbformat_minor": 2
}
