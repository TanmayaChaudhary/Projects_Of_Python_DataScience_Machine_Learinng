{
 "cells": [
  {
   "cell_type": "markdown",
   "metadata": {},
   "source": [
    "## Web Info Scraping Of Python Wikipedia"
   ]
  },
  {
   "cell_type": "code",
   "execution_count": 4,
   "metadata": {},
   "outputs": [],
   "source": [
    "from bs4 import BeautifulSoup\n",
    "import requests"
   ]
  },
  {
   "cell_type": "code",
   "execution_count": 5,
   "metadata": {},
   "outputs": [],
   "source": [
    "url=\"https://en.wikipedia.org/wiki/Python_(programming_language)\"\n",
    "raw_data=requests.get(url)"
   ]
  },
  {
   "cell_type": "code",
   "execution_count": 9,
   "metadata": {},
   "outputs": [],
   "source": [
    "data=raw_data.content"
   ]
  },
  {
   "cell_type": "code",
   "execution_count": 10,
   "metadata": {},
   "outputs": [],
   "source": [
    "bs=BeautifulSoup(data,\"lxml\") #convert data to lxml readable formate"
   ]
  },
  {
   "cell_type": "code",
   "execution_count": 11,
   "metadata": {},
   "outputs": [],
   "source": [
    "g=bs.find_all(\"table\",{\"class\":\"infobox vevent\"}) #gives all the p tags in the page"
   ]
  },
  {
   "cell_type": "code",
   "execution_count": 23,
   "metadata": {},
   "outputs": [
    {
     "data": {
      "text/plain": [
       "bs4.element.ResultSet"
      ]
     },
     "execution_count": 23,
     "metadata": {},
     "output_type": "execute_result"
    }
   ],
   "source": [
    "type(g)"
   ]
  },
  {
   "cell_type": "code",
   "execution_count": 24,
   "metadata": {},
   "outputs": [
    {
     "data": {
      "text/plain": [
       "1"
      ]
     },
     "execution_count": 24,
     "metadata": {},
     "output_type": "execute_result"
    }
   ],
   "source": [
    "#g\n",
    "len(g)"
   ]
  },
  {
   "cell_type": "code",
   "execution_count": 25,
   "metadata": {},
   "outputs": [
    {
     "data": {
      "text/plain": [
       "[<th scope=\"row\"><a href=\"/wiki/Programming_paradigm\" title=\"Programming paradigm\">Paradigm</a></th>,\n",
       " <th scope=\"row\"><a href=\"/wiki/Software_design\" title=\"Software design\">Designed by</a></th>,\n",
       " <th scope=\"row\"><a class=\"mw-redirect\" href=\"/wiki/Software_developer\" title=\"Software developer\">Developer</a></th>,\n",
       " <th scope=\"row\">First appeared</th>,\n",
       " <th scope=\"row\" style=\"white-space: nowrap;\"><a href=\"/wiki/Software_release_life_cycle\" title=\"Software release life cycle\">Stable release</a></th>,\n",
       " <th scope=\"row\"><a href=\"/wiki/Type_system\" title=\"Type system\">Typing discipline</a></th>,\n",
       " <th scope=\"row\"><a href=\"/wiki/Software_license\" title=\"Software license\">License</a></th>,\n",
       " <th scope=\"row\"><a href=\"/wiki/Filename_extension\" title=\"Filename extension\">Filename extensions</a></th>,\n",
       " <th scope=\"row\">Website</th>,\n",
       " <th colspan=\"2\" style=\"text-align:center;background-color: #eee;\">Major <a href=\"/wiki/Programming_language_implementation\" title=\"Programming language implementation\">implementations</a></th>,\n",
       " <th colspan=\"2\" style=\"text-align:center;background-color: #eee;\"><a href=\"/wiki/Programming_language#Dialects,_flavors_and_implementations\" title=\"Programming language\">Dialects</a></th>,\n",
       " <th colspan=\"2\" style=\"text-align:center;background-color: #eee;\">Influenced by</th>,\n",
       " <th colspan=\"2\" style=\"text-align:center;background-color: #eee;\">Influenced</th>]"
      ]
     },
     "execution_count": 25,
     "metadata": {},
     "output_type": "execute_result"
    }
   ],
   "source": [
    "th=g[0].find_all(\"th\")\n",
    "th"
   ]
  },
  {
   "cell_type": "code",
   "execution_count": 26,
   "metadata": {},
   "outputs": [
    {
     "name": "stdout",
     "output_type": "stream",
     "text": [
      "Paradigm\n",
      "Designed by\n",
      "Developer\n",
      "First appeared\n",
      "Stable release\n",
      "Typing discipline\n",
      "License\n",
      "Filename extensions\n",
      "Website\n",
      "Major implementations\n",
      "Dialects\n",
      "Influenced by\n",
      "Influenced\n"
     ]
    }
   ],
   "source": [
    "title=[]\n",
    "for i in th:\n",
    "    print(i.text)\n",
    "    title.append(i.text)"
   ]
  },
  {
   "cell_type": "code",
   "execution_count": 28,
   "metadata": {},
   "outputs": [
    {
     "name": "stdout",
     "output_type": "stream",
     "text": [
      "13\n",
      "17\n"
     ]
    }
   ],
   "source": [
    "print(len(th))\n",
    "print(len(td))"
   ]
  },
  {
   "cell_type": "code",
   "execution_count": 48,
   "metadata": {},
   "outputs": [],
   "source": [
    "td=g[0].find_all(\"td\")\n",
    "#td"
   ]
  },
  {
   "cell_type": "code",
   "execution_count": 29,
   "metadata": {},
   "outputs": [
    {
     "name": "stdout",
     "output_type": "stream",
     "text": [
      "\n",
      "\n",
      "\n",
      "Multi-paradigm: functional, imperative, object-oriented, reflective\n",
      "\n",
      "\n",
      "Guido van Rossum\n",
      "\n",
      "\n",
      "Python Software Foundation\n",
      "\n",
      "\n",
      "1990; 29 years ago (1990)[1]\n",
      "\n",
      "\n",
      "\n",
      "\n",
      "\n",
      "3.7.3 / 25 March 2019; 49 days ago (2019-03-25)[2]2.7.16 / 4 March 2019; 2 months ago (2019-03-04)[3]\n",
      "\n",
      "\n",
      "\n",
      "\n",
      "\n",
      "\n",
      "\n",
      "Duck, dynamic, gradual (since 3.5)[4]\n",
      "\n",
      "\n",
      "Python Software Foundation License\n",
      "\n",
      "\n",
      ".py, .pyc, .pyd, .pyo (prior to 3.5),[5] .pyw, .pyz (since 3.5)[6]\n",
      "\n",
      "\n",
      "www.python.org\n",
      "\n",
      "\n",
      "CPython, PyPy, Stackless Python, MicroPython. CircuitPython, IronPython, Jython\n",
      "\n",
      "\n",
      "Cython, RPython\n",
      "\n",
      "\n",
      "ABC,[7] ALGOL 68,[8] APL[9] C,[10] C++,[11] CLU,[12] Dylan,[13] Haskell,[14] Icon,[15] Java,[16] Lisp,[17] Modula-3,[11] Perl, Standard ML[9]\n",
      "\n",
      "\n",
      "Apache Groovy, Boo, Cobra, CoffeeScript,[18] D, F#, Genie,[19] Go, JavaScript,[20][21] Julia,[22] Nim, Ring,[23] Ruby,[24] Swift[25]\n",
      "\n",
      "\n",
      "\n",
      " Python Programming at Wikibooks\n",
      "\n",
      "\n",
      "\n"
     ]
    }
   ],
   "source": [
    "dec=[]\n",
    "for j in td:\n",
    "    print(j.text)\n",
    "    print(\"\\n\")\n",
    "    dec.append(j.text)"
   ]
  },
  {
   "cell_type": "code",
   "execution_count": 30,
   "metadata": {},
   "outputs": [
    {
     "name": "stdout",
     "output_type": "stream",
     "text": [
      "Multi-paradigm: functional, imperative, object-oriented, reflective\n"
     ]
    }
   ],
   "source": [
    "print(td[1].text)"
   ]
  },
  {
   "cell_type": "code",
   "execution_count": 31,
   "metadata": {},
   "outputs": [
    {
     "name": "stdout",
     "output_type": "stream",
     "text": [
      "Paradigm\tMulti-paradigm: functional, imperative, object-oriented, reflective\n",
      "Designed by\tGuido van Rossum\n",
      "Developer\tPython Software Foundation\n",
      "First appeared\t1990; 29 years ago (1990)[1]\n",
      "Stable release\t\n",
      "Typing discipline\t3.7.3 / 25 March 2019; 49 days ago (2019-03-25)[2]2.7.16 / 4 March 2019; 2 months ago (2019-03-04)[3]\n",
      "\n",
      "License\t\n",
      "\n",
      "Filename extensions\tDuck, dynamic, gradual (since 3.5)[4]\n",
      "Website\tPython Software Foundation License\n",
      "Major implementations\t.py, .pyc, .pyd, .pyo (prior to 3.5),[5] .pyw, .pyz (since 3.5)[6]\n",
      "Dialects\twww.python.org\n",
      "Influenced by\tCPython, PyPy, Stackless Python, MicroPython. CircuitPython, IronPython, Jython\n",
      "Influenced\tCython, RPython\n"
     ]
    }
   ],
   "source": [
    "k=min([len(dec),len(title)])\n",
    "for i in range(k):\n",
    "    print(\"\"+title[i]+\"\\t\"+dec[i+1])"
   ]
  },
  {
   "cell_type": "code",
   "execution_count": null,
   "metadata": {},
   "outputs": [],
   "source": []
  },
  {
   "cell_type": "code",
   "execution_count": null,
   "metadata": {},
   "outputs": [],
   "source": []
  }
 ],
 "metadata": {
  "kernelspec": {
   "display_name": "Python 3",
   "language": "python",
   "name": "python3"
  },
  "language_info": {
   "codemirror_mode": {
    "name": "ipython",
    "version": 3
   },
   "file_extension": ".py",
   "mimetype": "text/x-python",
   "name": "python",
   "nbconvert_exporter": "python",
   "pygments_lexer": "ipython3",
   "version": "3.6.7"
  }
 },
 "nbformat": 4,
 "nbformat_minor": 2
}
