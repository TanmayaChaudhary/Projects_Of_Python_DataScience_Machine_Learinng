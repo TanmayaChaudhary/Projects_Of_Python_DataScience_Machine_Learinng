{
 "cells": [
  {
   "cell_type": "markdown",
   "metadata": {},
   "source": [
    "## Full Currency Calculator using Login & SignUp"
   ]
  },
  {
   "cell_type": "code",
   "execution_count": 1,
   "metadata": {},
   "outputs": [],
   "source": [
    "import requests as rs   # library used to request for data\n",
    "import json             # Used to view data in json format"
   ]
  },
  {
   "cell_type": "code",
   "execution_count": 2,
   "metadata": {},
   "outputs": [],
   "source": [
    "# Go To \"https://api.exchangeratesapi.io/latest?base=\"+ base   base--> the currency you have  "
   ]
  },
  {
   "cell_type": "code",
   "execution_count": 3,
   "metadata": {},
   "outputs": [],
   "source": [
    "# Login & SignUp Function\n",
    "def currconv(): \n",
    "    Frombase=input(\"Enter the Base of money which you have: \")\n",
    "    gh=rs.get(\"https://api.exchangeratesapi.io/latest?base=\"+Frombase).content\n",
    "    data=json.loads(gh)\n",
    "\n",
    "    Tobase=input(\"Enter the base to which you want to convert your money\")\n",
    "    data[\"rates\"][Frombase]\n",
    "\n",
    "    n=float(input(\"Enter how many \"+Frombase+\" you have\"))\n",
    "    ToNew=n*data[\"rates\"][Tobase]\n",
    "    print(n,Frombase,\" are corresponds to \",ToNew,Tobase)"
   ]
  },
  {
   "cell_type": "code",
   "execution_count": 4,
   "metadata": {},
   "outputs": [
    {
     "name": "stdout",
     "output_type": "stream",
     "text": [
      "To use Currency Calculator you have to login or signup\n",
      "\n",
      "Login And Signup\n",
      " 1. Login\n",
      " 2. SignUp\n",
      " 3. Exit\n"
     ]
    },
    {
     "name": "stdin",
     "output_type": "stream",
     "text": [
      "Enter your choice... 1\n",
      "Enter your userid Hello\n",
      "Enter your password 1234\n"
     ]
    },
    {
     "name": "stdout",
     "output_type": "stream",
     "text": [
      "Login Successful\n",
      "Now you will use Currency Convertor\n"
     ]
    },
    {
     "name": "stdin",
     "output_type": "stream",
     "text": [
      "Enter the Base of money which you have:  INR\n",
      "Enter the base to which you want to convert your money USD\n",
      "Enter how many INR you have 1000\n"
     ]
    },
    {
     "name": "stdout",
     "output_type": "stream",
     "text": [
      "1000.0 INR  are corresponds to  14.2968044 USD\n"
     ]
    },
    {
     "name": "stdin",
     "output_type": "stream",
     "text": [
      "Enter your choice... 3\n"
     ]
    }
   ],
   "source": [
    "# For Login & SignUp\n",
    "import sys   #Used for the sys.exit() Function\n",
    "user=[\"Hello\"]\n",
    "pwd=[\"1234\"]\n",
    "print(\"To use Currency Calculator you have to login or signup\\n\")\n",
    "print(\"Login And Signup\\n 1. Login\\n 2. SignUp\\n 3. Exit\")\n",
    "\n",
    "while 1:\n",
    "    check=int(input(\"Enter your choice...\"))\n",
    "    if check==1:\n",
    "        u=input(\"Enter your userid\")\n",
    "        p=input(\"Enter your password\")\n",
    "        if u in user:\n",
    "            i=user.index(u)\n",
    "            \n",
    "            if pwd[i]==p:\n",
    "                print(\"Login Successful\")\n",
    "                print(\"Now you will use Currency Convertor\")\n",
    "                currconv()\n",
    "            else:\n",
    "                print(\"Access Denied!!!\")\n",
    "    elif check==2:\n",
    "        u=input(\"Enter your userid\")\n",
    "        p=input(\"enter your password\")\n",
    "        user.append(u)\n",
    "        pwd.append(p)\n",
    "        #Signup\n",
    "    elif check==3:\n",
    "        break\n",
    "    else:\n",
    "        break\n",
    "        print(\"Choose appropiate selection\")\n"
   ]
  },
  {
   "cell_type": "code",
   "execution_count": null,
   "metadata": {},
   "outputs": [],
   "source": []
  }
 ],
 "metadata": {
  "kernelspec": {
   "display_name": "Python 3",
   "language": "python",
   "name": "python3"
  },
  "language_info": {
   "codemirror_mode": {
    "name": "ipython",
    "version": 3
   },
   "file_extension": ".py",
   "mimetype": "text/x-python",
   "name": "python",
   "nbconvert_exporter": "python",
   "pygments_lexer": "ipython3",
   "version": "3.6.7"
  }
 },
 "nbformat": 4,
 "nbformat_minor": 2
}
