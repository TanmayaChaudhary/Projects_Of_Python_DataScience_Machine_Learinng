{
 "cells": [
  {
   "cell_type": "markdown",
   "metadata": {},
   "source": [
    "## Whatsaap Bomber Using Selenium webdriver"
   ]
  },
  {
   "cell_type": "code",
   "execution_count": 1,
   "metadata": {},
   "outputs": [
    {
     "data": {
      "text/plain": [
       "'C:\\\\Users\\\\tanmay\\\\Desktop\\\\Summer_BootCamp\\\\Day9'"
      ]
     },
     "execution_count": 1,
     "metadata": {},
     "output_type": "execute_result"
    }
   ],
   "source": [
    "pwd"
   ]
  },
  {
   "cell_type": "code",
   "execution_count": 2,
   "metadata": {},
   "outputs": [],
   "source": [
    "from selenium import webdriver  # Library to use selenium webdriver\n",
    "import os                       # Library to use OS fxns"
   ]
  },
  {
   "cell_type": "markdown",
   "metadata": {},
   "source": [
    "## Function for Bombing"
   ]
  },
  {
   "cell_type": "code",
   "execution_count": null,
   "metadata": {},
   "outputs": [],
   "source": [
    "def main():\n",
    "    driver = webdriver.Chrome()\n",
    "    driver.get('https://web.whatsapp.com/')  # Access the whatsaap web\n",
    "\n",
    "    name = input('Enter the name of user or group: ')  \n",
    "    msg = input('Enter your message: ')\n",
    "    count = int(input('Enter the count: '))\n",
    "    input('Enter any key after scanning QR code')\n",
    "\n",
    "    user = driver.find_element_by_xpath('//span[@title = \"{}\"]'.format(name))\n",
    "    user.click()\n",
    "\n",
    "    msg_box = driver.find_element_by_class_name('_2S1VP')\n",
    "    msg_box.click()\n",
    "\n",
    "    for i in range(count):\n",
    "        msg_box.send_keys(msg)\n",
    "        button = driver.find_element_by_class_name('_35EW6')\n",
    "        button.click() \n",
    "    print('Bombing Complete!!')\n"
   ]
  },
  {
   "cell_type": "code",
   "execution_count": 3,
   "metadata": {},
   "outputs": [
    {
     "name": "stdin",
     "output_type": "stream",
     "text": [
      "Enter the name of user or group:  Narayan\n",
      "Enter your message:  Hi\n",
      "Enter the count:  10\n",
      "Enter any key after scanning QR code \n"
     ]
    },
    {
     "name": "stdout",
     "output_type": "stream",
     "text": [
      "Bombing Complete!!\n"
     ]
    }
   ],
   "source": [
    "main()"
   ]
  },
  {
   "cell_type": "code",
   "execution_count": null,
   "metadata": {},
   "outputs": [],
   "source": []
  }
 ],
 "metadata": {
  "kernelspec": {
   "display_name": "Python 3",
   "language": "python",
   "name": "python3"
  },
  "language_info": {
   "codemirror_mode": {
    "name": "ipython",
    "version": 3
   },
   "file_extension": ".py",
   "mimetype": "text/x-python",
   "name": "python",
   "nbconvert_exporter": "python",
   "pygments_lexer": "ipython3",
   "version": "3.6.7"
  }
 },
 "nbformat": 4,
 "nbformat_minor": 2
}
