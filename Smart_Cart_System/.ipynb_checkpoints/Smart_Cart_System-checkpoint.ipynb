{
 "cells": [
  {
   "cell_type": "markdown",
   "metadata": {},
   "source": [
    "# Smart Cart System"
   ]
  },
  {
   "cell_type": "code",
   "execution_count": 1,
   "metadata": {},
   "outputs": [
    {
     "name": "stdout",
     "output_type": "stream",
     "text": [
      "\n",
      "\n",
      "Food\t\t\t\tSports\t\t\t\t\tCosmetics\n",
      "0 Candy\t100\t\t\t 3 Badminton Racket\t12000\t\t\t 6 Suns Cream\t200\t\t\t\n",
      "\n",
      "\n",
      "1 Burger\t30\t\t\t 4 Shuttle\t650\t\t\t 7 Lotion\t300\t\t\t\n",
      "\n",
      "\n",
      "2 Pizza\t150\t\t\t 5 Kit Bags\t3200\t\t\t 8 BoroPlus\t100\t\t\t\n",
      "\n",
      "\n",
      "Press 10 for exit\n"
     ]
    },
    {
     "name": "stdin",
     "output_type": "stream",
     "text": [
      "Enter any no. 2\n",
      "Enter any no. 1\n",
      "Enter any no. 10\n"
     ]
    },
    {
     "name": "stdout",
     "output_type": "stream",
     "text": [
      "[2, 1]\n",
      "Your Cart Contains: \n",
      "Pizza    Rs.  150  + 18% GST Rs. 27.0\n",
      "Burger    Rs.  30  + 18% GST Rs. 5.3999999999999995\n",
      "Your total bill is Rs.  212.4  with GST of each product\n"
     ]
    }
   ],
   "source": [
    "print(\"\\t\\tWelcome To The Mall\")\n",
    "print(\"\\t\\t\\tCategories\")\n",
    "\n",
    "## print(\" \"*50+\"Welcome to the Mall\")\n",
    "categories= [\"Food\",\"Sports\",\"Cosmetics\"]\n",
    "items= [\"Candy\",\"Burger\",\"Pizza\",\"Badminton Racket\",\"Shuttle\",\"Kit Bags\",\"Suns Cream\",\"Lotion\",\"BoroPlus\"]\n",
    "price=[100,30,150,12000,650,3200,200,300,100]\n",
    "print(\"\\n\")\n",
    "print(categories[0]+\"\\t\\t\\t\\t\"+categories[1]+\"\\t\\t\\t\\t\\t\"+categories[2])\n",
    "\n",
    "for i in range(0,3):\n",
    "    print(str(i)+\" \"+items[i]+\"\\t\"+str(price[i])+\"\\t\\t\\t\",str(i+3)+\" \"+items[i+3]+\"\\t\"+str(price[i+3])+\"\\t\\t\\t\",str(i+6)+\" \"+items[i+6]+\"\\t\"+str(price[i+6])+\"\\t\\t\\t\")\n",
    "    print(\"\\n\")\n",
    "print(\"Press 10 for exit\")    \n",
    "control=0\n",
    "cart=[]\n",
    "while  control!=10:\n",
    "    control=int(input(\"Enter any no.\"))\n",
    "#    if control not in cart:\n",
    "    cart.append(control)    \n",
    "    \n",
    "print(cart[:-1])\n",
    "lencart=len(cart)-1\n",
    "print(\"Your Cart Contains: \")\n",
    "\n",
    "f= open(\"Total.txt\",\"a+\")\n",
    "f.write(\"Cutomer Bill\\n\")\n",
    "for i in range(0,lencart):\n",
    "    print(items[cart[i]]+\" \"*4+\"Rs. \",price[cart[i]],\" + 18% GST Rs.\",(price[cart[i]]*.18))\n",
    "    f.write(\"\\n\"+str(items[cart[i]])+str(\" \"*4)+\"Rs. \"+str(price[cart[i]])+\" + 18% GST Rs.\"+str((price[cart[i]]*.18)))\n",
    "total=0\n",
    "\n",
    "for i in range(0,lencart):\n",
    "               total= price[cart[i]]+(price[cart[i]]*.18) + total\n",
    "               \n",
    "f.write(\"\\nTotal = Rs.\" +str(total))\n",
    "f.close()\n",
    "print(\"Your total bill is Rs. \" ,total ,\" with GST of each product\")"
   ]
  },
  {
   "cell_type": "markdown",
   "metadata": {},
   "source": [
    "Welcome to the Shop     \n",
    "                          Categories\n",
    "  Food   Price       Sports            Price      Cosmetics   Price\n",
    "0 Candy  100       3 Badminton Racket  12000    6 Suns Cream  200\n",
    "\n",
    "\n",
    "1 Burger 30        4 Shuttle           650      7 Lotion      300\n",
    "\n",
    "\n",
    "2 Pizza  150       5 Kit Bags          3200     8 BoroPlus    100\n",
    "\n",
    "\n",
    "Press 10 for exit\n",
    "\n",
    "Enter any no. 2\n",
    "Enter any no. 2\n",
    "Enter any no. 10\n",
    "\n",
    "[2, 1]\n",
    "Your Cart Contains: \n",
    "Pizza    Rs.  150  + 18% GST Rs. 27.0\n",
    "Burger    Rs.  30  + 18% GST Rs. 5.3999999999999995\n",
    "Your total bill is Rs.  212.4  with GST of each product"
   ]
  }
 ],
 "metadata": {
  "kernelspec": {
   "display_name": "Python 3",
   "language": "python",
   "name": "python3"
  },
  "language_info": {
   "codemirror_mode": {
    "name": "ipython",
    "version": 3
   },
   "file_extension": ".py",
   "mimetype": "text/x-python",
   "name": "python",
   "nbconvert_exporter": "python",
   "pygments_lexer": "ipython3",
   "version": "3.6.7"
  }
 },
 "nbformat": 4,
 "nbformat_minor": 2
}
