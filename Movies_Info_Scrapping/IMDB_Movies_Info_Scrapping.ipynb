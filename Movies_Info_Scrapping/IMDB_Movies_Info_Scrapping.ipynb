{
 "cells": [
  {
   "cell_type": "markdown",
   "metadata": {},
   "source": [
    "# Scraping of all the movies names, ratings, directors name, star cast name from IMDB movies section"
   ]
  },
  {
   "cell_type": "code",
   "execution_count": 1,
   "metadata": {},
   "outputs": [],
   "source": [
    "import requests \n",
    "import io\n",
    "from PIL import Image   #This library is used to save images\n",
    "from bs4 import BeautifulSoup\n",
    "import selenium\n",
    "\n",
    "from selenium import webdriver    #used to access the webdriver\n",
    "\n",
    "browser = webdriver.Chrome()   #Used to access the Chromedriver.exe which is present in this folder\n",
    "\n",
    "browser.get('https://www.imdb.com/movies-in-theaters/?ref_=nv_tp_inth_1')\n",
    "html=browser.page_source"
   ]
  },
  {
   "cell_type": "code",
   "execution_count": 2,
   "metadata": {},
   "outputs": [],
   "source": [
    "SO=BeautifulSoup(html,'lxml')"
   ]
  },
  {
   "cell_type": "code",
   "execution_count": 3,
   "metadata": {},
   "outputs": [
    {
     "data": {
      "text/plain": [
       "2"
      ]
     },
     "execution_count": 3,
     "metadata": {},
     "output_type": "execute_result"
    }
   ],
   "source": [
    "moviesdiv1=SO.find_all(class_='list detail sub-list')\n",
    "len(moviesdiv1)"
   ]
  },
  {
   "cell_type": "code",
   "execution_count": 4,
   "metadata": {},
   "outputs": [
    {
     "data": {
      "text/plain": [
       "12"
      ]
     },
     "execution_count": 4,
     "metadata": {},
     "output_type": "execute_result"
    }
   ],
   "source": [
    "sd=moviesdiv1[0].find_all(\"table\",{'class':'nm-title-overview-widget-layout'})\n",
    "len(sd)"
   ]
  },
  {
   "cell_type": "code",
   "execution_count": 5,
   "metadata": {},
   "outputs": [],
   "source": [
    "#sd[0]  # It will show the info of the first movie in sd"
   ]
  },
  {
   "cell_type": "code",
   "execution_count": 6,
   "metadata": {},
   "outputs": [
    {
     "data": {
      "text/plain": [
       "' John Wick: Chapter 3 - Parabellum (2019)'"
      ]
     },
     "execution_count": 6,
     "metadata": {},
     "output_type": "execute_result"
    }
   ],
   "source": [
    "#Name Of first Movie\n",
    "td=sd[0].find_all(\"h4\")[0].text\n",
    "td"
   ]
  },
  {
   "cell_type": "code",
   "execution_count": 7,
   "metadata": {},
   "outputs": [],
   "source": [
    "# Names of all the Movies\n",
    "Movie_Name=[]\n",
    "for i in range(len(sd)):\n",
    "    Movie_Name.append(sd[i].find_all(\"h4\")[0].text)\n",
    "    "
   ]
  },
  {
   "cell_type": "code",
   "execution_count": 8,
   "metadata": {},
   "outputs": [
    {
     "data": {
      "text/plain": [
       "[' John Wick: Chapter 3 - Parabellum (2019)',\n",
       " \" A Dog's Journey (2019)\",\n",
       " ' The Sun Is Also a Star (2019)',\n",
       " ' De De Pyaar De (2019)',\n",
       " ' The Third Wife (2018) - [Open May 15]',\n",
       " ' The Souvenir (2019) - [Limited]',\n",
       " ' Aniara (2018) - [Limited]',\n",
       " ' Trial by Fire (2018) - [Limited]',\n",
       " ' All Creatures Here Below (2018) - [Limited]',\n",
       " ' The Wandering Soap Opera (2017) - [Limited]',\n",
       " ' The Meanest Man in Texas (2017) - [Limited]',\n",
       " ' Parallel Love: The Story of a Band Called Luxury (2018) - [NYC]']"
      ]
     },
     "execution_count": 8,
     "metadata": {},
     "output_type": "execute_result"
    }
   ],
   "source": [
    "Movie_Name"
   ]
  },
  {
   "cell_type": "code",
   "execution_count": 9,
   "metadata": {},
   "outputs": [
    {
     "data": {
      "text/plain": [
       "'74'"
      ]
     },
     "execution_count": 9,
     "metadata": {},
     "output_type": "execute_result"
    }
   ],
   "source": [
    "# Rating Of First Movie\n",
    "sd[0].find_all(\"div\",{'class':'rating_txt'})[0].text[1:3]\n"
   ]
  },
  {
   "cell_type": "code",
   "execution_count": 10,
   "metadata": {},
   "outputs": [],
   "source": [
    "# Ratings Of all Movies\n",
    "Ratings=[]\n",
    "for i in range(len(sd)):\n",
    "    Ratings.append(sd[i].find_all(\"div\",{'class':'rating_txt'})[0].text[1:3])\n",
    "        "
   ]
  },
  {
   "cell_type": "code",
   "execution_count": 11,
   "metadata": {},
   "outputs": [
    {
     "data": {
      "text/plain": [
       "['74', '47', '50', '', '71', '93', '59', '45', '', '', '', '']"
      ]
     },
     "execution_count": 11,
     "metadata": {},
     "output_type": "execute_result"
    }
   ],
   "source": [
    "Ratings"
   ]
  },
  {
   "cell_type": "code",
   "execution_count": 12,
   "metadata": {},
   "outputs": [
    {
     "data": {
      "text/plain": [
       "['Chad', 'Stahelski']"
      ]
     },
     "execution_count": 12,
     "metadata": {},
     "output_type": "execute_result"
    }
   ],
   "source": [
    "#Name of Director of Movie 1\n",
    "p=sd[0].find_all(\"div\",{'class':'txt-block'})[0].text[12:].split()\n",
    "p"
   ]
  },
  {
   "cell_type": "code",
   "execution_count": 13,
   "metadata": {},
   "outputs": [],
   "source": [
    "# Name of directors of all movies\n",
    "Directors=[]\n",
    "for i in range(len(sd)):\n",
    "    Directors.append(sd[i].find_all(\"div\",{'class':'txt-block'})[0].text[12:].split())"
   ]
  },
  {
   "cell_type": "code",
   "execution_count": 14,
   "metadata": {},
   "outputs": [
    {
     "data": {
      "text/plain": [
       "[['Chad', 'Stahelski'],\n",
       " ['Gail', 'Mancuso'],\n",
       " ['Ry', 'Russo-Young'],\n",
       " ['Akiv', 'Ali'],\n",
       " ['Ash', 'Mayfair'],\n",
       " ['Joanna', 'Hogg'],\n",
       " ['Pella', 'Kagerman', '|', 'Hugo', 'Lilja'],\n",
       " ['Edward', 'Zwick'],\n",
       " ['Collin', 'Schiffli'],\n",
       " ['Raoul', 'Ruiz', '|', 'Valeria', 'Sarmiento'],\n",
       " ['Justin', 'Ward'],\n",
       " ['Matt', 'Hinton']]"
      ]
     },
     "execution_count": 14,
     "metadata": {},
     "output_type": "execute_result"
    }
   ],
   "source": [
    "Directors   # str(Directors) use this to convert it to string from list"
   ]
  },
  {
   "cell_type": "code",
   "execution_count": 15,
   "metadata": {},
   "outputs": [
    {
     "data": {
      "text/plain": [
       "['Keanu Reeves', '\\nHalle Berry', '\\nIan McShane', '\\nLaurence Fishburne\\n']"
      ]
     },
     "execution_count": 15,
     "metadata": {},
     "output_type": "execute_result"
    }
   ],
   "source": [
    "#Name of Starts of Movie 1\n",
    "s=sd[0].find_all(\"div\",{'class':'txt-block'})[1].text[8:].split(\", \")\n",
    "s"
   ]
  },
  {
   "cell_type": "code",
   "execution_count": 16,
   "metadata": {},
   "outputs": [],
   "source": [
    "# Name of Starts of all Movies\n",
    "Stars=[]\n",
    "for i in range(len(sd)):\n",
    "    Stars.append(sd[i].find_all(\"div\",{'class':'txt-block'})[1].text[8:].split(\", \"))"
   ]
  },
  {
   "cell_type": "code",
   "execution_count": 17,
   "metadata": {},
   "outputs": [
    {
     "data": {
      "text/plain": [
       "[['Keanu Reeves', '\\nHalle Berry', '\\nIan McShane', '\\nLaurence Fishburne\\n'],\n",
       " ['Josh Gad', '\\nDennis Quaid', '\\nKathryn Prescott', '\\nMarg Helgenberger\\n'],\n",
       " ['Yara Shahidi', '\\nCharles Melton', '\\nKeong Sim', '\\nFaith Logan\\n'],\n",
       " ['Ajay Devgn', '\\nTabu', '\\nRakul Preet Singh', '\\nJimmy Sheirgill\\n'],\n",
       " ['Long Le Vu',\n",
       "  '\\nMai Thu Huong Maya',\n",
       "  '\\nNguyen Phuong Tra My',\n",
       "  '\\nNhu Quynh Nguyen\\n'],\n",
       " ['Neil Young', '\\nTosin Cole', '\\nJack McMullen', '\\nTilda Swinton\\n'],\n",
       " ['Emelie Jonsson',\n",
       "  '\\nBianca Cruzeiro',\n",
       "  '\\nArvin Kananian',\n",
       "  '\\nAnneli Martini\\n'],\n",
       " ['Laura Dern', \"\\nJack O'Connell\", '\\nEmily Meade', '\\nJade Pettyjohn\\n'],\n",
       " ['Karen Gillan',\n",
       "  '\\nJennifer Morrison',\n",
       "  '\\nDavid Dastmalchian',\n",
       "  '\\nDavid Koechner\\n'],\n",
       " ['Luis Alarcón',\n",
       "  '\\nPatricia Rivadeneira',\n",
       "  '\\nFrancisco Reyes',\n",
       "  '\\nConsuelo Castillo\\n'],\n",
       " ['Mateus Ward', '\\nJamie McShane', '\\nAlexandra Bard', '\\nCasey Bond\\n'],\n",
       " ['']]"
      ]
     },
     "execution_count": 17,
     "metadata": {},
     "output_type": "execute_result"
    }
   ],
   "source": [
    "Stars"
   ]
  },
  {
   "cell_type": "code",
   "execution_count": 18,
   "metadata": {},
   "outputs": [
    {
     "name": "stdout",
     "output_type": "stream",
     "text": [
      "Action\n",
      "Crime\n",
      "Thriller\n"
     ]
    }
   ],
   "source": [
    "#Type Of Movie 1\n",
    "#last=len(sd[6].find_all(\"span\",{'class':''}))\n",
    "#sd[0].find_all(\"p\")[0].find_all(\"span\",{'class':''})[].text\n",
    "spans1=sd[0].find_all(\"p\")[0].find_all(\"span\",{'class':''})\n",
    "for i in spans1:\n",
    "    print(i.text)"
   ]
  },
  {
   "cell_type": "code",
   "execution_count": 19,
   "metadata": {},
   "outputs": [],
   "source": [
    "#Type of all Movies\n",
    "Movies_Type=[]\n",
    "for i in sd:\n",
    "    spans=i.find_all(\"p\")[0].find_all(\"span\",{'class':''})\n",
    "    spansdata=[]\n",
    "    for j in spans:\n",
    "        spansdata.append(j.text)\n",
    "    Movies_Type.append(spansdata)    "
   ]
  },
  {
   "cell_type": "code",
   "execution_count": 20,
   "metadata": {},
   "outputs": [
    {
     "data": {
      "text/plain": [
       "[<span>Documentary</span>]"
      ]
     },
     "execution_count": 20,
     "metadata": {},
     "output_type": "execute_result"
    }
   ],
   "source": [
    "spans=i.find_all(\"p\")[0].find_all(\"span\",{'class':''})\n",
    "spans"
   ]
  },
  {
   "cell_type": "code",
   "execution_count": 21,
   "metadata": {},
   "outputs": [
    {
     "data": {
      "text/plain": [
       "[['Action', 'Crime', 'Thriller'],\n",
       " ['Adventure', 'Comedy', 'Drama', 'Family', 'Fantasy'],\n",
       " ['Drama', 'Romance'],\n",
       " ['Comedy', 'Romance'],\n",
       " ['Drama'],\n",
       " ['Drama', 'Mystery', 'Romance'],\n",
       " ['Drama', 'Sci-Fi'],\n",
       " ['Biography', 'Drama'],\n",
       " ['Drama'],\n",
       " ['Comedy', 'Drama', 'Fantasy'],\n",
       " ['Biography', 'Drama', 'History'],\n",
       " ['Documentary']]"
      ]
     },
     "execution_count": 21,
     "metadata": {},
     "output_type": "execute_result"
    }
   ],
   "source": [
    "Movies_Type"
   ]
  },
  {
   "cell_type": "code",
   "execution_count": 324,
   "metadata": {},
   "outputs": [
    {
     "data": {
      "text/plain": [
       "[<span>Action</span>, <span>Crime</span>, <span>Thriller</span>]"
      ]
     },
     "execution_count": 324,
     "metadata": {},
     "output_type": "execute_result"
    }
   ],
   "source": []
  },
  {
   "cell_type": "code",
   "execution_count": 22,
   "metadata": {},
   "outputs": [
    {
     "name": "stdout",
     "output_type": "stream",
     "text": [
      "12\n",
      "12\n",
      "12\n",
      "12\n",
      "12\n"
     ]
    }
   ],
   "source": [
    "print(len(Movie_Name))\n",
    "print(len(Ratings))\n",
    "print(len(Directors))\n",
    "print(len(Stars))\n",
    "print(len(Movies_Type))"
   ]
  },
  {
   "cell_type": "code",
   "execution_count": 23,
   "metadata": {},
   "outputs": [],
   "source": [
    "#for i in range(12):\n",
    "     #print(Movie_Name[i],\"  \",Ratings[i],\"  \",Directors[i],\"  \",Stars[i],\"  \",Movies_Type[i],\"\\n\\n\\n\")"
   ]
  },
  {
   "cell_type": "code",
   "execution_count": null,
   "metadata": {},
   "outputs": [],
   "source": []
  },
  {
   "cell_type": "markdown",
   "metadata": {},
   "source": [
    "## Writing data  to .csv file"
   ]
  },
  {
   "cell_type": "code",
   "execution_count": null,
   "metadata": {},
   "outputs": [],
   "source": [
    "# Now Saving Data into .CSV file\n",
    "import csv\n",
    "f=csv.writer(open('MoviesData.csv','w'))\n",
    "f.writerow(['Movies Name','Ratings','Directors','Stars','Movie Type'])"
   ]
  },
  {
   "cell_type": "code",
   "execution_count": 1,
   "metadata": {},
   "outputs": [],
   "source": [
    "# Method 2 for saving data to cvs format\n",
    "df=[\"name\",\"contact\",\"tanmay\",\"91278732\",\"Champ\",\"7832612\"]\n",
    "with open(\"csv_text.csv\",\"a\") as d:\n",
    "    for st in df:\n",
    "        d.write(st)"
   ]
  },
  {
   "cell_type": "code",
   "execution_count": 29,
   "metadata": {},
   "outputs": [
    {
     "data": {
      "text/plain": [
       "2068"
      ]
     },
     "execution_count": 29,
     "metadata": {},
     "output_type": "execute_result"
    }
   ],
   "source": [
    "#f.writerow([Movie_Name,Ratings,Directors,Stars,Movies_Type])"
   ]
  },
  {
   "cell_type": "code",
   "execution_count": 31,
   "metadata": {},
   "outputs": [],
   "source": [
    "Movie_Name=[]\n",
    "Ratings=[]\n",
    "Directors=[]\n",
    "Stars=[]\n",
    "Movies_Type=[]\n",
    "\n",
    "for i in range(len(sd)):\n",
    "    Movie_Name.append(sd[i].find_all(\"h4\")[0].text)\n",
    "    Ratings.append(sd[i].find_all(\"div\",{'class':'rating_txt'})[0].text[1:3])\n",
    "    Directors.append(sd[i].find_all(\"div\",{'class':'txt-block'})[0].text[12:].split())\n",
    "    Stars.append(sd[i].find_all(\"div\",{'class':'txt-block'})[1].text[8:].split(\", \"))    \n",
    "    \n",
    "    spans=sd[i].find_all(\"p\")[0].find_all(\"span\",{'class':''})\n",
    "    spansdata=[]\n",
    "    for j in spans:\n",
    "        spansdata.append(j.text)\n",
    "    Movies_Type.append(spansdata)        \n",
    "    f.writerow([Movie_Name,Ratings,Directors,Stars,Movies_Type])"
   ]
  },
  {
   "cell_type": "code",
   "execution_count": null,
   "metadata": {},
   "outputs": [],
   "source": []
  }
 ],
 "metadata": {
  "kernelspec": {
   "display_name": "Python 3",
   "language": "python",
   "name": "python3"
  },
  "language_info": {
   "codemirror_mode": {
    "name": "ipython",
    "version": 3
   },
   "file_extension": ".py",
   "mimetype": "text/x-python",
   "name": "python",
   "nbconvert_exporter": "python",
   "pygments_lexer": "ipython3",
   "version": "3.6.7"
  }
 },
 "nbformat": 4,
 "nbformat_minor": 2
}
